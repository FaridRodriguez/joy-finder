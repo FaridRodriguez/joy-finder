{
  "nbformat": 4,
  "nbformat_minor": 0,
  "metadata": {
    "colab": {
      "name": "GetImages.ipynb",
      "provenance": [],
      "collapsed_sections": [],
      "authorship_tag": "ABX9TyOnhXZzSpW4PXhsibNrTxzk",
      "include_colab_link": true
    },
    "kernelspec": {
      "name": "python3",
      "display_name": "Python 3"
    }
  },
  "cells": [
    {
      "cell_type": "markdown",
      "metadata": {
        "id": "view-in-github",
        "colab_type": "text"
      },
      "source": [
        "<a href=\"https://colab.research.google.com/github/FaridRodriguez/joy-finder/blob/farid/notebooks/GetFaceImages.ipynb\" target=\"_parent\"><img src=\"https://colab.research.google.com/assets/colab-badge.svg\" alt=\"Open In Colab\"/></a>"
      ]
    },
    {
      "cell_type": "code",
      "metadata": {
        "id": "7n_D6b2GEr8f",
        "colab": {
          "base_uri": "https://localhost:8080/"
        },
        "outputId": "44d40d4a-6523-43e7-ab1b-65d4c745f426"
      },
      "source": [
        "!pip install -Uqq fastbook\r\n",
        "import fastbook\r\n",
        "import google.colab\r\n",
        "from fastbook import *\r\n",
        "from fastai.vision.widgets import *"
      ],
      "execution_count": 1,
      "outputs": [
        {
          "output_type": "stream",
          "text": [
            "\u001b[K     |████████████████████████████████| 727kB 7.8MB/s \n",
            "\u001b[K     |████████████████████████████████| 51kB 4.9MB/s \n",
            "\u001b[K     |████████████████████████████████| 194kB 11.6MB/s \n",
            "\u001b[K     |████████████████████████████████| 1.2MB 16.7MB/s \n",
            "\u001b[K     |████████████████████████████████| 61kB 6.4MB/s \n",
            "\u001b[?25h"
          ],
          "name": "stdout"
        }
      ]
    },
    {
      "cell_type": "code",
      "metadata": {
        "id": "d1OFyC1GC3As"
      },
      "source": [
        "# Azure key\r\n",
        "bingsearch_key = \"72e68a60de2644a398535b3e9cec015a\"\r\n",
        "\r\n",
        "# Get URL of joyful people images\r\n",
        "test_search_results = search_images_bing(key=bingsearch_key, term=\"person smiling real\", max_images=10)\r\n",
        "\r\n",
        "# Extract url attribute from results\r\n",
        "images_url = test_search_results.attrgot(\"contentUrl\")"
      ],
      "execution_count": 2,
      "outputs": []
    },
    {
      "cell_type": "code",
      "metadata": {
        "colab": {
          "base_uri": "https://localhost:8080/"
        },
        "id": "DkDJA3NBDjVf",
        "outputId": "8485b5e0-3fee-4d7e-e758-a818effc007f"
      },
      "source": [
        "# Set drive mount (interface path)\r\n",
        "google.colab.drive.mount('/content/drive/') "
      ],
      "execution_count": 3,
      "outputs": [
        {
          "output_type": "stream",
          "text": [
            "Mounted at /content/drive/\n"
          ],
          "name": "stdout"
        }
      ]
    },
    {
      "cell_type": "code",
      "metadata": {
        "colab": {
          "base_uri": "https://localhost:8080/",
          "height": 106
        },
        "id": "j9F4NeB6UT-S",
        "outputId": "a4661f83-1ec0-45bb-986f-4977475ab085"
      },
      "source": [
        "# Save image in drive and check\r\n",
        "file_path = \"/content/drive/MyDrive/proyectos-ml-sl/joy-finder-data/joyful_sample.jpg\"\r\n",
        "download_url(url=images_url[0], dest=file_path, overwrite=True)\r\n",
        "image = Image.open(file_path)\r\n",
        "image.to_thumb(128,128)"
      ],
      "execution_count": 4,
      "outputs": [
        {
          "output_type": "display_data",
          "data": {
            "text/html": [
              ""
            ],
            "text/plain": [
              "<IPython.core.display.HTML object>"
            ]
          },
          "metadata": {
            "tags": []
          }
        },
        {
          "output_type": "execute_result",
          "data": {
            "image/png": "[encoded data removed]",
            "text/plain": [
              "<PIL.Image.Image image mode=RGB size=128x89 at 0x7F5A9C64C978>"
            ]
          },
          "metadata": {
            "tags": []
          },
          "execution_count": 4
        }
      ]
    },
    {
      "cell_type": "code",
      "metadata": {
        "id": "xrTwgplKUvvV"
      },
      "source": [
        "face_types = [\"person smiling real\", \"serious looking face\"]\r\n",
        "path = \"/content/drive/MyDrive/proyectos-ml-sl/joy-finder-data\"\r\n",
        "\r\n",
        "for face in face_types:\r\n",
        "  destination_folder = (f\"{path}/{face}\")\r\n",
        "  results =  search_images_bing(key=bingsearch_key, term=f\"{face}\", max_images=150)\r\n",
        "  download_images(dest=destination_folder, urls=results.attrgot(\"contentUrl\"))"
      ],
      "execution_count": 22,
      "outputs": []
    },
    {
      "cell_type": "code",
      "metadata": {
        "id": "Y0W2_eb_Lhru"
      },
      "source": [
        ""
      ],
      "execution_count": null,
      "outputs": []
    }
  ]
}